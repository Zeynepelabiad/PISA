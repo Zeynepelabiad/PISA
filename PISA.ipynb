{
 "cells": [
  {
   "cell_type": "code",
   "execution_count": 18,
   "metadata": {
    "collapsed": true
   },
   "outputs": [],
   "source": [
    "# Proposal Interesting Data Set & Beginner Tutorial "
   ]
  },
  {
   "cell_type": "markdown",
   "metadata": {},
   "source": [
    "# PISA  -  The Programme for International Student Assessment"
   ]
  },
  {
   "cell_type": "raw",
   "metadata": {},
   "source": [
    "*Demonstrate the effect of different variables such as gender, social background, GDP and population on the test results.\n",
    "*Use Yellowbrick and Bokeh to make visualizations that visualize performance of countries in the different test subjects over the past 15 years. "
   ]
  },
  {
   "cell_type": "code",
   "execution_count": 19,
   "metadata": {
    "scrolled": false
   },
   "outputs": [
    {
     "data": {
      "text/html": [
       "<iframe width=\"560\" height=\"315\" src=\"https://www.youtube.com/embed/i4RGqzaNEtg\" frameborder=\"0\" allow=\"autoplay; encrypted-media\" allowfullscreen></iframe>"
      ],
      "text/plain": [
       "<IPython.core.display.HTML object>"
      ]
     },
     "metadata": {},
     "output_type": "display_data"
    }
   ],
   "source": [
    "from IPython.display import display, HTML\n",
    "from IPython.display import HTML\n",
    "display(HTML('<iframe width=\"560\" height=\"315\" src=\"https://www.youtube.com/embed/i4RGqzaNEtg\" frameborder=\"0\" allow=\"autoplay; encrypted-media\" allowfullscreen></iframe>'))\n",
    "\n"
   ]
  },
  {
   "cell_type": "raw",
   "metadata": {},
   "source": [
    "Pisa is an international study conducted by OECD in 80 countries around the world. The study tests the skills of 15 year olds in Reading, Math, Science. Since 2000, the study has been conducted every three years. The study also collects data on the gender and social status of the test takers."
   ]
  },
  {
   "cell_type": "code",
   "execution_count": 20,
   "metadata": {
    "scrolled": false
   },
   "outputs": [
    {
     "data": {
      "text/html": [
       "<iframe width=\"560\" height=\"315\" src=\"http://www.compareyourcountry.org/pisa?lg=en\" frameborder=\"0\" allow=\"autoplay; encrypted-media\" allowfullscreen></iframe>"
      ],
      "text/plain": [
       "<IPython.core.display.HTML object>"
      ]
     },
     "metadata": {},
     "output_type": "display_data"
    }
   ],
   "source": [
    "from IPython.display import display, HTML\n",
    "display(HTML('<iframe width=\"560\" height=\"315\" src=\"http://www.compareyourcountry.org/pisa?lg=en\" frameborder=\"0\" allow=\"autoplay; encrypted-media\" allowfullscreen></iframe>'))\n",
    "\n"
   ]
  },
  {
   "cell_type": "code",
   "execution_count": 21,
   "metadata": {
    "scrolled": true
   },
   "outputs": [
    {
     "data": {
      "text/html": [
       "<iframe width=\"800\" height=\"400\" src=\"http://gpseducation.oecd.org/IndicatorExplorer?plotter=h5&query=2&indicators=S000*S019*S004*S002*S003*N058*N059*S007*S008*S090*S006*S009*S010*S011*S012*S082*S083*S084*S085*S086*S087*S088*S089*N100*N101*N109*N110*N111*N112*N113*N114*N115*N116*N117*N118*N119*N120*N121*N122*N123*N124*N103*N106*N104*N107*S033*S052*N105*N108*N102*R000*R004*R002*R003*R007*R008*R090*R006*R009*R010*R011*R012*M000*M004*M002*M003*M007*M008*M090*M006*M009*M010*M011*M012*X019*X020*X021*X022*X023*X025*X026*X027*X028*X029*N090*N177*N178*N179*N180*N181*N091*S013*S091*S092*S014*S093*S094*S015*S016*S053*S059*S060*S054*S055*S056*S057*S058*R054*R055*R056*R057*R058*M054*M055*M056*M057*M058*S061*S062*S063*S064*S065*S066*R061*R062*R063*R064*R065*R066*M061*M062*M063*M064*M065*M066*S067*S068*S069*S070*S071*S072*S073*S074*S075*R073*R074*R075*M073*M074*M075*N094*N095*N096*N097*S076*S077*S078*S079*N098*N099*S080*S081*S017*S018*N076*N062*N063*S026*S027*N139*N140*N093*N128*N092*N011*N138*N137*N141*N142*N125*N143*N144*S029*N145*N126*S040*S042*N146*N147*N148*N149*N150*N151*N152*N153*N154*N155*N156*N129*N017*N018*N019*N081*N158*N157*N159*N162*N163*N161*N164*N165*N166*N167*N168*N169*N170*N171*N172*N160*N173*N008*N020*N130*N131*N132*N133*N134*N135*N136*N009*N001*N174*N175*N176*M057*M058*N190*N191*N192*N193*N194*N195*N196*N197*N198*N199*N200*N201*N202*N203*N204*N205*N206*N207*N208*N209*N210*N211*N212*N213*N214*N215*N216*N217*N218*N219*N220*N221*N222*N223*N224*N225*N226*N227*N228*N229*N230*N231*N232*N233*N234*N235*F000*F001*F002*F003*F004*F005*F006*F008*F010*F011*F015*F016*F017*F018*F019*O015*O025*O018*O028*O016*O017*O019*O020*O021*O022*O023*O024*O026*O027*O029*O030#frameborder=\"0\" allow=\"autoplay; encrypted-media\" allowfullscreen></iframe>"
      ],
      "text/plain": [
       "<IPython.core.display.HTML object>"
      ]
     },
     "metadata": {},
     "output_type": "display_data"
    }
   ],
   "source": [
    "#2015 Pisa Full Indicators Dataset Page\n",
    "\n",
    "from IPython.display import display, HTML\n",
    "display(HTML('<iframe width=\"800\" height=\"400\" src=\"http://gpseducation.oecd.org/IndicatorExplorer?plotter=h5&query=2&indicators=S000*S019*S004*S002*S003*N058*N059*S007*S008*S090*S006*S009*S010*S011*S012*S082*S083*S084*S085*S086*S087*S088*S089*N100*N101*N109*N110*N111*N112*N113*N114*N115*N116*N117*N118*N119*N120*N121*N122*N123*N124*N103*N106*N104*N107*S033*S052*N105*N108*N102*R000*R004*R002*R003*R007*R008*R090*R006*R009*R010*R011*R012*M000*M004*M002*M003*M007*M008*M090*M006*M009*M010*M011*M012*X019*X020*X021*X022*X023*X025*X026*X027*X028*X029*N090*N177*N178*N179*N180*N181*N091*S013*S091*S092*S014*S093*S094*S015*S016*S053*S059*S060*S054*S055*S056*S057*S058*R054*R055*R056*R057*R058*M054*M055*M056*M057*M058*S061*S062*S063*S064*S065*S066*R061*R062*R063*R064*R065*R066*M061*M062*M063*M064*M065*M066*S067*S068*S069*S070*S071*S072*S073*S074*S075*R073*R074*R075*M073*M074*M075*N094*N095*N096*N097*S076*S077*S078*S079*N098*N099*S080*S081*S017*S018*N076*N062*N063*S026*S027*N139*N140*N093*N128*N092*N011*N138*N137*N141*N142*N125*N143*N144*S029*N145*N126*S040*S042*N146*N147*N148*N149*N150*N151*N152*N153*N154*N155*N156*N129*N017*N018*N019*N081*N158*N157*N159*N162*N163*N161*N164*N165*N166*N167*N168*N169*N170*N171*N172*N160*N173*N008*N020*N130*N131*N132*N133*N134*N135*N136*N009*N001*N174*N175*N176*M057*M058*N190*N191*N192*N193*N194*N195*N196*N197*N198*N199*N200*N201*N202*N203*N204*N205*N206*N207*N208*N209*N210*N211*N212*N213*N214*N215*N216*N217*N218*N219*N220*N221*N222*N223*N224*N225*N226*N227*N228*N229*N230*N231*N232*N233*N234*N235*F000*F001*F002*F003*F004*F005*F006*F008*F010*F011*F015*F016*F017*F018*F019*O015*O025*O018*O028*O016*O017*O019*O020*O021*O022*O023*O024*O026*O027*O029*O030#frameborder=\"0\" allow=\"autoplay; encrypted-media\" allowfullscreen></iframe>'))\n"
   ]
  },
  {
   "cell_type": "code",
   "execution_count": null,
   "metadata": {
    "collapsed": true
   },
   "outputs": [],
   "source": []
  }
 ],
 "metadata": {
  "kernelspec": {
   "display_name": "Python 3",
   "language": "python",
   "name": "python3"
  },
  "language_info": {
   "codemirror_mode": {
    "name": "ipython",
    "version": 3
   },
   "file_extension": ".py",
   "mimetype": "text/x-python",
   "name": "python",
   "nbconvert_exporter": "python",
   "pygments_lexer": "ipython3",
   "version": "3.6.3"
  },
  "widgets": {
   "application/vnd.jupyter.widget-state+json": {
    "state": {},
    "version_major": 2,
    "version_minor": 0
   }
  }
 },
 "nbformat": 4,
 "nbformat_minor": 2
}
